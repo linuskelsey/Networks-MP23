{
 "cells": [
  {
   "cell_type": "code",
   "execution_count": 8,
   "id": "8efe0fbc",
   "metadata": {},
   "outputs": [],
   "source": [
    "import matplotlib\n",
    "import matplotlib.pyplot as plt\n",
    "from mpl_toolkits.mplot3d import axes3d\n",
    "from numpy import arange\n",
    "from numpy import meshgrid\n",
    "\n",
    "%matplotlib inline\n",
    "\n",
    "matplotlib.use(\"pgf\")\n",
    "matplotlib.rcParams.update({\n",
    "    \"pgf.texsystem\": \"pdflatex\",\n",
    "    'font.family': 'serif',\n",
    "    'text.usetex': True,\n",
    "    'pgf.rcfonts': False,\n",
    "})\n",
    "\n",
    "a1 = 0.2\n",
    "a2 = 0.2\n",
    "a12 = 0.1\n",
    "w1 = 0.1\n",
    "w2 = 0.1\n",
    "w12 = 0.2\n",
    "eps = 0.0001\n",
    "n1 = 800\n",
    "n2 = 800\n",
    "\n",
    "delta = 0.025\n",
    "\n",
    "xrange = arange(0,1,delta)\n",
    "yrange = arange(0,1,delta)\n",
    "zrange = arange(0,1,delta)\n",
    "\n",
    "X, Y, Z = meshgrid(xrange, yrange, zrange)\n",
    "\n",
    "F = (1 - X) * (a1 + eps * (n1 * (X**2) + n2 * (Z**2))) - (w1 * X)\n",
    "G = (1 - Y) * (a2 + eps * (n2 * (Y**2) + n1 * (Z**2))) - (w2 * X)\n",
    "H = (1 - Z) * (a12 + (eps * Z * (n1 * X + n2 * Y))) - (w12 * X)"
   ]
  }
 ],
 "metadata": {
  "kernelspec": {
   "display_name": "Python 3 (ipykernel)",
   "language": "python",
   "name": "python3"
  },
  "language_info": {
   "codemirror_mode": {
    "name": "ipython",
    "version": 3
   },
   "file_extension": ".py",
   "mimetype": "text/x-python",
   "name": "python",
   "nbconvert_exporter": "python",
   "pygments_lexer": "ipython3",
   "version": "3.11.0"
  }
 },
 "nbformat": 4,
 "nbformat_minor": 5
}
